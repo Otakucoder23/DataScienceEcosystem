{
  "cells": [
    {
      "cell_type": "markdown",
      "metadata": {
        "id": "view-in-github",
        "colab_type": "text"
      },
      "source": [
        "<a href=\"https://colab.research.google.com/github/Otakucoder23/DataScienceEcosystem/blob/main/DataScienceEcosystem.ipynb\" target=\"_parent\"><img src=\"https://colab.research.google.com/assets/colab-badge.svg\" alt=\"Open In Colab\"/></a>"
      ]
    },
    {
      "cell_type": "markdown",
      "metadata": {
        "collapsed": true,
        "id": "ossuyp9cqNAK"
      },
      "source": [
        "# Data Science Tools and Ecosystem"
      ]
    },
    {
      "cell_type": "markdown",
      "metadata": {
        "id": "YWUkU3YsqNAY"
      },
      "source": [
        "\n",
        "In this notebook, Data Science Tools and Ecosystem are summarized."
      ]
    },
    {
      "cell_type": "markdown",
      "metadata": {
        "id": "JaJw_u2hqNAc"
      },
      "source": [
        "**Objectives:**\n",
        "    \n",
        "- the popular languages that Data Scientists use\n",
        "- the commonly used libraries used by Data Scientists\n",
        "- Data Science Tools Open Source\n",
        "- Below are a few examples of evaluating arithmetic expressions in Python\n",
        "    "
      ]
    },
    {
      "cell_type": "markdown",
      "metadata": {
        "id": "wvtosrM4qNAf"
      },
      "source": [
        "Some of the popular languages that Data Scientists use are:\n",
        "    \n",
        "    1. Python\n",
        "    2. R\n",
        "    3. Julia\n",
        "    4. Java"
      ]
    },
    {
      "cell_type": "markdown",
      "metadata": {
        "id": "-BQMeX4KqNAh"
      },
      "source": [
        "Some of the commonly used libraries used by Data Scientists include:\n",
        "    \n",
        "    1. Pandas\n",
        "    2. Scikit-learn\n",
        "    3. Matplotlib\n",
        "    4. Rstudio\n",
        "    5. Apache Sparke"
      ]
    },
    {
      "cell_type": "markdown",
      "metadata": {
        "id": "Bta6-9eyqNAj"
      },
      "source": [
        "### Data Science Tools"
      ]
    },
    {
      "cell_type": "markdown",
      "metadata": {
        "id": "Q7tdyakSqNAm"
      },
      "source": [
        "|Tool Open Source|\n",
        "|----------------|\n",
        "|Rstudio|\n",
        "|Jupyter|\n",
        "|Visual Studio|"
      ]
    },
    {
      "cell_type": "markdown",
      "metadata": {
        "id": "HQA-xbvbqNAq"
      },
      "source": [
        "### Below are a few examples of evaluating arithmetic expressions in Python"
      ]
    },
    {
      "cell_type": "code",
      "execution_count": null,
      "metadata": {
        "id": "WecXgnzIqNAv",
        "outputId": "390a42e5-9c9f-4668-85e0-4cea08fa4404"
      },
      "outputs": [
        {
          "data": {
            "text/plain": [
              "17"
            ]
          },
          "execution_count": 5,
          "metadata": {},
          "output_type": "execute_result"
        }
      ],
      "source": [
        "(3*4)+5 #This a simple arithmetic expression to mutiply then add integers"
      ]
    },
    {
      "cell_type": "code",
      "execution_count": null,
      "metadata": {
        "scrolled": true,
        "id": "l35p92e_qNA5",
        "outputId": "c27cb3f6-4e46-4f7c-e7dd-4f100e9b0c46"
      },
      "outputs": [
        {
          "data": {
            "text/plain": [
              "3"
            ]
          },
          "execution_count": 7,
          "metadata": {},
          "output_type": "execute_result"
        }
      ],
      "source": [
        "200//60 #This will convert 200 minutes to hours by diving by 60."
      ]
    },
    {
      "cell_type": "markdown",
      "metadata": {
        "id": "Q6QE3QewqNA8"
      },
      "source": [
        "## Author\n",
        "Name : Muhammad Elfath Nur Akbar Alfaruq"
      ]
    }
  ],
  "metadata": {
    "kernelspec": {
      "display_name": "Python 3.10",
      "language": "python",
      "name": "python3"
    },
    "language_info": {
      "codemirror_mode": {
        "name": "ipython",
        "version": 3
      },
      "file_extension": ".py",
      "mimetype": "text/x-python",
      "name": "python",
      "nbconvert_exporter": "python",
      "pygments_lexer": "ipython3",
      "version": "3.10.12"
    },
    "colab": {
      "provenance": [],
      "include_colab_link": true
    }
  },
  "nbformat": 4,
  "nbformat_minor": 0
}